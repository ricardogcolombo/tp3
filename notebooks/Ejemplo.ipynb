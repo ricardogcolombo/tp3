{
 "cells": [
  {
   "cell_type": "code",
   "execution_count": 2,
   "metadata": {},
   "outputs": [
    {
     "name": "stdout",
     "output_type": "stream",
     "text": [
      "mkdir: build: File exists\n",
      "-- The C compiler identification is AppleClang 11.0.0.11000033\n",
      "-- The CXX compiler identification is AppleClang 11.0.0.11000033\n",
      "-- Check for working C compiler: /Applications/Xcode.app/Contents/Developer/Toolchains/XcodeDefault.xctoolchain/usr/bin/cc\n",
      "-- Check for working C compiler: /Applications/Xcode.app/Contents/Developer/Toolchains/XcodeDefault.xctoolchain/usr/bin/cc -- works\n",
      "-- Detecting C compiler ABI info\n",
      "-- Detecting C compiler ABI info - done\n",
      "-- Detecting C compile features\n",
      "-- Detecting C compile features - done\n",
      "-- Check for working CXX compiler: /Applications/Xcode.app/Contents/Developer/Toolchains/XcodeDefault.xctoolchain/usr/bin/c++\n",
      "-- Check for working CXX compiler: /Applications/Xcode.app/Contents/Developer/Toolchains/XcodeDefault.xctoolchain/usr/bin/c++ -- works\n",
      "-- Detecting CXX compiler ABI info\n",
      "-- Detecting CXX compiler ABI info - done\n",
      "-- Detecting CXX compile features\n",
      "-- Detecting CXX compile features - done\n",
      "Release mode\n",
      "-- Found PythonInterp: /Users/ilan/.pyenv/versions/tp3/bin/python3 (found version \"3.6.5\") \n",
      "-- Found PythonLibs: /Users/ilan/.pyenv/versions/3.6.5/lib/libpython3.6m.a\n",
      "-- pybind11 v2.4.dev4\n",
      "-- Performing Test HAS_FLTO\n",
      "-- Performing Test HAS_FLTO - Success\n",
      "-- LTO enabled\n",
      "CMAKE_INSTALL_PREFIX=/Users/ilan/Code/tp3\n",
      "-- Configuring done\n",
      "-- Generating done\n",
      "-- Build files have been written to: /Users/ilan/Code/tp3/build\n",
      "\u001b[35m\u001b[1mScanning dependencies of target predict\u001b[0m\n",
      "[ 11%] \u001b[32mBuilding CXX object CMakeFiles/predict.dir/src/predict.cpp.o\u001b[0m\n",
      "[ 22%] \u001b[32mBuilding CXX object CMakeFiles/predict.dir/src/cml.cpp.o\u001b[0m\n",
      "\u001b[1m/Users/ilan/Code/tp3/src/cml.cpp:28:13: \u001b[0m\u001b[0;1;31merror: \u001b[0m\u001b[1mexpected ';' after expression\u001b[0m\n",
      "    case 0:a\n",
      "\u001b[0;1;32m            ^\n",
      "\u001b[0m\u001b[0;32m            ;\n",
      "\u001b[0m\u001b[1m/Users/ilan/Code/tp3/src/cml.cpp:28:12: \u001b[0m\u001b[0;1;35mwarning: \u001b[0m\u001b[1mexpression result unused\n",
      "      [-Wunused-value]\u001b[0m\n",
      "    case 0:a\n",
      "\u001b[0;1;32m           ^\n",
      "\u001b[0m1 warning and 1 error generated.\n",
      "make[2]: *** [CMakeFiles/predict.dir/src/cml.cpp.o] Error 1\n",
      "make[1]: *** [CMakeFiles/predict.dir/all] Error 2\n",
      "make: *** [all] Error 2\n"
     ]
    }
   ],
   "source": [
    "!cd .. && git submodule init\n",
    "!cd .. && git submodule update\n",
    "!cd .. && mkdir build\n",
    "!cd ../build/ && rm -rf *\n",
    "!cd ../build && cmake \\\n",
    "  -DPYTHON_EXECUTABLE=\"$(which python3)\" \\\n",
    "  -DCMAKE_BUILD_TYPE=Release ..\n",
    "!cd ../build && make install"
   ]
  },
  {
   "cell_type": "code",
   "execution_count": null,
   "metadata": {},
   "outputs": [],
   "source": [
    "import predict\n",
    "import numpy as np\n",
    "\n",
    "x= [1, 2, 3, 4]\n",
    "y = [5, 6, 7, 8]\n",
    "\n",
    "\n",
    "cml = predict.CML(0, 2)\n",
    "#cml.fit(x, y)\n",
    "#cml.predict(5)\n"
   ]
  },
  {
   "cell_type": "code",
   "execution_count": null,
   "metadata": {},
   "outputs": [],
   "source": []
  }
 ],
 "metadata": {
  "kernelspec": {
   "display_name": "Python 3",
   "language": "python",
   "name": "python3"
  },
  "language_info": {
   "codemirror_mode": {
    "name": "ipython",
    "version": 3
   },
   "file_extension": ".py",
   "mimetype": "text/x-python",
   "name": "python",
   "nbconvert_exporter": "python",
   "pygments_lexer": "ipython3",
   "version": "3.6.5"
  }
 },
 "nbformat": 4,
 "nbformat_minor": 2
}
