{
 "cells": [
  {
   "cell_type": "markdown",
   "metadata": {},
   "source": [
    "# Delays por mes\n",
    "\n",
    "1. COMPLETAR QUE ARCHIVO CORRER PARA OBTENER LA MATRIZ DATA. El resultado esta en `smaller_data/OTP_por_mes.csv`\n",
    "\n",
    "2. Compilar el proyecto\n",
    "3. Listar todos los datos preprocesados\n",
    "4. CML!\n",
    "5. Graficar y comparar\n",
    "6. Calcular RMSE"
   ]
  },
  {
   "cell_type": "code",
   "execution_count": 2,
   "metadata": {},
   "outputs": [],
   "source": [
    "# 1. correr local"
   ]
  },
  {
   "cell_type": "code",
   "execution_count": 14,
   "metadata": {},
   "outputs": [
    {
     "name": "stdout",
     "output_type": "stream",
     "text": [
      "mkdir: build: File exists\n",
      "-- The C compiler identification is AppleClang 11.0.0.11000033\n",
      "-- The CXX compiler identification is AppleClang 11.0.0.11000033\n",
      "-- Check for working C compiler: /Applications/Xcode.app/Contents/Developer/Toolchains/XcodeDefault.xctoolchain/usr/bin/cc\n",
      "-- Check for working C compiler: /Applications/Xcode.app/Contents/Developer/Toolchains/XcodeDefault.xctoolchain/usr/bin/cc -- works\n",
      "-- Detecting C compiler ABI info\n",
      "-- Detecting C compiler ABI info - done\n",
      "-- Detecting C compile features\n",
      "-- Detecting C compile features - done\n",
      "-- Check for working CXX compiler: /Applications/Xcode.app/Contents/Developer/Toolchains/XcodeDefault.xctoolchain/usr/bin/c++\n",
      "-- Check for working CXX compiler: /Applications/Xcode.app/Contents/Developer/Toolchains/XcodeDefault.xctoolchain/usr/bin/c++ -- works\n",
      "-- Detecting CXX compiler ABI info\n",
      "-- Detecting CXX compiler ABI info - done\n",
      "-- Detecting CXX compile features\n",
      "-- Detecting CXX compile features - done\n",
      "Release mode\n",
      "-- Found PythonInterp: /Users/ilan/.pyenv/versions/tp3/bin/python3 (found version \"3.6.5\") \n",
      "-- Found PythonLibs: /Users/ilan/.pyenv/versions/3.6.5/lib/libpython3.6m.a\n",
      "-- pybind11 v2.4.dev4\n",
      "-- Performing Test HAS_FLTO\n",
      "-- Performing Test HAS_FLTO - Success\n",
      "-- LTO enabled\n",
      "CMAKE_INSTALL_PREFIX=/Users/ilan/Code/tp3\n",
      "-- Configuring done\n",
      "-- Generating done\n",
      "-- Build files have been written to: /Users/ilan/Code/tp3/build\n",
      "\u001b[35m\u001b[1mScanning dependencies of target predict\u001b[0m\n",
      "[ 11%] \u001b[32mBuilding CXX object CMakeFiles/predict.dir/src/predict.cpp.o\u001b[0m\n",
      "In file included from /Users/ilan/Code/tp3/src/predict.cpp:3:\n",
      "\u001b[1m/Users/ilan/Code/tp3/src/cml.h:36:11: \u001b[0m\u001b[0;1;31merror: \u001b[0m\u001b[1mexpected member name or ';' after\n",
      "      declaration specifiers\u001b[0m\n",
      "    Vector<double> coef()\n",
      "\u001b[0;1;32m    ~~~~~~^\n",
      "\u001b[0m\u001b[1m/Users/ilan/Code/tp3/src/predict.cpp:14:9: \u001b[0m\u001b[0;1;31merror: \u001b[0m\u001b[1mexpected expression\u001b[0m\n",
      "        .def(\"coef\",&CML::coef);\n",
      "\u001b[0;1;32m        ^\n",
      "\u001b[0m2 errors generated.\n",
      "make[2]: *** [CMakeFiles/predict.dir/src/predict.cpp.o] Error 1\n",
      "make[1]: *** [CMakeFiles/predict.dir/all] Error 2\n",
      "make: *** [all] Error 2\n"
     ]
    }
   ],
   "source": [
    "# 2.\n",
    "!cd .. && git submodule init\n",
    "!cd .. && git submodule update\n",
    "!cd .. && mkdir build\n",
    "!cd ../build/ && rm -rf *\n",
    "!cd ../build && cmake \\\n",
    "  -DPYTHON_EXECUTABLE=\"$(which python3)\" \\\n",
    "  -DCMAKE_BUILD_TYPE=Release ..\n",
    "!cd ../build && make install"
   ]
  },
  {
   "cell_type": "code",
   "execution_count": 3,
   "metadata": {},
   "outputs": [
    {
     "name": "stdout",
     "output_type": "stream",
     "text": [
      "/Users/ilan/Code/tp3/notebooks\r\n"
     ]
    }
   ],
   "source": [
    "!pwd"
   ]
  },
  {
   "cell_type": "code",
   "execution_count": 17,
   "metadata": {},
   "outputs": [],
   "source": [
    "# 3. listando los datos\n",
    "import numpy as np\n",
    "\n",
    "'''\n",
    "data = np.matrix(\n",
    "    [\n",
    "        [363497, 101263, 75937, 71455, 53984, 77751, 91174, 73281, 51912, 63241, 82429, 92645], #1994\n",
    "        [439356, 88226, 95541, 82464, 86632, 105719, 89606, 92149, 61954, 80228, 94600, 142843], #1995\n",
    "        [519396, 118091, 108184, 86422, 94651, 112313, 113297, 117013, 93412, 104171, 96095, 152186], #1996\n",
    "        [443363, 103023, 100965, 90146, 77029, 107568, 105038, 100019, 66527, 84743, 94237, 119329], #1997\n",
    "        [391213, 101589, 111011, 92414, 101170, 132069, 97768, 107005, 93502, 83598, 72963, 121889], #1998\n",
    "        [430139, 88189, 102401, 109616, 110327, 134221, 137235, 114595, 95080, 95406, 84562, 103411], #1999\n",
    "        [549320, 118875, 111273, 114192, 123360, 158602, 143559, 147598, 101447, 116310, 127079, 179217], #2000\n",
    "        [348179, 130514, 131619, 106513, 98198, 129124, 117823, 129645, 158707, 67561, 63829, 85022], #2001\n",
    "        [308717, 61262, 95911, 76336, 77608, 95757, 94676, 81101, 51809, 70672, 61403, 92497], #2002\n",
    "        [406561, 117525, 97467, 69367, 80461, 94627, 113620, 116952, 75849, 75206, 104578, 133121], #2003\n",
    "        [559393, 125246, 112518, 98892, 133045, 159248, 147712, 135272, 94163, 115906, 122073, 172532], #2004\n",
    "        [563842, 126326, 142528, 98554, 100427, 151090, 182635, 156700, 99589, 111147, 113099, 165981], #2005\n",
    "        [605748, 131672, 144541, 126351, 130988, 162580, 163384, 152139, 139088, 165701, 137620, 176618], #2006\n",
    "        [647216, 185521, 170854, 149346, 139654, 201002, 196006, 185259, 109906, 137320, 120851, 219063], #2007\n",
    "        [523610, 178984, 175120, 133580, 127213, 177470, 152558, 132010, 81885, 77654, 87227, 188861] #2008\n",
    "    ]\n",
    ")\n",
    "'''\n",
    "\n",
    "import pandas as pd\n",
    "\n",
    "# ESTAR PARADO EN ROOT PARA CORRER \n",
    "df = pd.read_csv('../smaller_data/OTP_por_mes.csv')\n",
    "\n",
    "df_group = df.groupby(['YEAR'])\n",
    "\n",
    "data_array = []\n",
    "\n",
    "for symbol, group in df_group:\n",
    "    year = []\n",
    "    for index, row in group.iterrows():\n",
    "        year.append(row.value)\n",
    "    data_array.append(year)\n",
    "    \n",
    "data = np.matrix(data_array)"
   ]
  },
  {
   "cell_type": "markdown",
   "metadata": {},
   "source": [
    "### 4. CML!\n",
    "\n",
    "Vamos a empezar probando algunas cositas.\n",
    "\n",
    "Primero hacemos CML en cada año por si mismo y calculo su RMSE\n",
    "\n",
    "$\n",
    "RMSE(f) = \\sqrt{\\frac{1}{N}\\sum_{i=0}^N e^2_{(i)}} \\\\\n",
    "e(i) =y(i)−yˆ(i)\n",
    "$\n",
    "\n",
    "Para empezar probamos con una cuadratica..."
   ]
  },
  {
   "cell_type": "code",
   "execution_count": 18,
   "metadata": {},
   "outputs": [],
   "source": [
    "import predict\n",
    "import math\n",
    "\n",
    "def cuadratica(x):\n",
    "    return np.array([1, x, x*x]);\n",
    "\n",
    "cml = predict.CML(cuadratica, 3)\n",
    "\n",
    "N = 12\n",
    "x = np.arange(1, N+1)\n",
    "\n",
    "x_axis = []\n",
    "rmses = []\n",
    "\n",
    "coef = 0\n",
    "\n",
    "for i in range(len(data)):\n",
    "    x_axis.append(1994 + i)\n",
    "    y = np.asarray(data[i]).reshape(-1)\n",
    "\n",
    "    cml.fit(x, y)\n",
    "    \n",
    "    coef = cml.coef()\n",
    "    \n",
    "    e = []\n",
    "    for j in range(N):\n",
    "        e.append(y[j] - cml.predict(x[j]))\n",
    "    \n",
    "    rmse = 0\n",
    "    for j in range(len(e)):\n",
    "        rmse += e[j] ** 2\n",
    "    rmse = rmse/N\n",
    "    rmse = math.sqrt(rmse)\n",
    "    \n",
    "    rmse = rmse / (max(y) - min(y))\n",
    "    \n",
    "    rmses.append(rmse)"
   ]
  },
  {
   "cell_type": "code",
   "execution_count": 19,
   "metadata": {},
   "outputs": [
    {
     "data": {
      "text/plain": [
       "<BarContainer object of 15 artists>"
      ]
     },
     "execution_count": 19,
     "metadata": {},
     "output_type": "execute_result"
    },
    {
     "data": {
      "image/png": "[encoded data removed]",
      "text/plain": [
       "<Figure size 432x288 with 1 Axes>"
      ]
     },
     "metadata": {
      "needs_background": "light"
     },
     "output_type": "display_data"
    }
   ],
   "source": [
    "import matplotlib.pyplot as plt\n",
    "\n",
    "plt.bar(x_axis, rmses)"
   ]
  },
  {
   "cell_type": "markdown",
   "metadata": {},
   "source": [
    "Y el error medio:"
   ]
  },
  {
   "cell_type": "code",
   "execution_count": 20,
   "metadata": {},
   "outputs": [
    {
     "data": {
      "text/plain": [
       "0.25666417675344616"
      ]
     },
     "execution_count": 20,
     "metadata": {},
     "output_type": "execute_result"
    }
   ],
   "source": [
    "sum(rmses)/len(rmses)"
   ]
  },
  {
   "cell_type": "markdown",
   "metadata": {},
   "source": [
    "La funcion que aproxima uno de los meses (2003 arbitrairamente) es:"
   ]
  },
  {
   "cell_type": "code",
   "execution_count": 21,
   "metadata": {},
   "outputs": [
    {
     "data": {
      "image/png": "[encoded data removed]",
      "text/plain": [
       "<Figure size 432x288 with 1 Axes>"
      ]
     },
     "metadata": {
      "needs_background": "light"
     },
     "output_type": "display_data"
    }
   ],
   "source": [
    "y = np.asarray(data[9]).reshape(-1)\n",
    "cml.fit(x, y)\n",
    "\n",
    "f_x_axis = np.arange(1, 12.1, 0.1)\n",
    "f_y_axis = [cml.predict(x) for x in f_x_axis]\n",
    "x_ticks = np.arange(1, 13, 1)\n",
    "\n",
    "data_x_axis = np.arange(1, 13, 1)\n",
    "data_y_axis = y\n",
    "\n",
    "fig, ax = plt.subplots()\n",
    "ax.plot(f_x_axis, f_y_axis, label=\"predict\")\n",
    "ax.scatter(data_x_axis, data_y_axis, label=\"actual\", color=\"r\")\n",
    "ax.legend()\n",
    "\n",
    "plt.xticks(x_ticks, [\"e\",\"f\",\"m\",\"a\",\"m\",\"j\",\"j\",\"a\",\"s\",\"o\",\"n\",\"d\"])\n",
    "\n",
    "plt.show()"
   ]
  },
  {
   "cell_type": "markdown",
   "metadata": {},
   "source": [
    "No parece aproximar tan bien...\n",
    "\n",
    "Como sabemos que el primer mes es mayor al resto probamos inlcuyendo la funcion $\\cos (x)$"
   ]
  },
  {
   "cell_type": "code",
   "execution_count": 39,
   "metadata": {},
   "outputs": [],
   "source": [
    "import math\n",
    "\n",
    "def cuadratica_con_inver(x):\n",
    "    return np.array([1, x, x*x, math.cos(x), math.cos(x) * math.cos(x)]);\n",
    "\n",
    "cml = predict.CML(cuadratica_con_inver, 5)\n",
    "\n",
    "rmses_2 = []\n",
    "\n",
    "for i in range(len(data)):\n",
    "    y = np.asarray(data[i]).reshape(-1)\n",
    "\n",
    "    cml.fit(x, y)\n",
    "    \n",
    "    e = []\n",
    "    for j in range(N):\n",
    "        e.append(y[j] - cml.predict(x[j]))\n",
    "    \n",
    "    rmse = 0\n",
    "    for j in range(len(e)):\n",
    "        rmse += e[j] ** 2\n",
    "    rmse = rmse/N\n",
    "    rmse = math.sqrt(rmse)\n",
    "    \n",
    "    rmse = rmse / (max(y) - min(y))\n",
    "    \n",
    "    rmses_2.append(rmse)"
   ]
  },
  {
   "cell_type": "code",
   "execution_count": 40,
   "metadata": {},
   "outputs": [
    {
     "data": {
      "image/png": "[encoded data removed]",
      "text/plain": [
       "<Figure size 432x288 with 1 Axes>"
      ]
     },
     "metadata": {
      "needs_background": "light"
     },
     "output_type": "display_data"
    }
   ],
   "source": [
    "plt.clf()\n",
    "\n",
    "\n",
    "X = np.array(x_axis)\n",
    "p1 = plt.bar(X - 0.25, rmses, color = 'b', width = 0.40)\n",
    "p2 = plt.bar(X + 0.25, rmses_2, color = 'g', width = 0.40)\n",
    "\n",
    "plt.legend((p1[0], p2[0]), ('Sin 1/x', 'Con 1/x'))\n",
    "\n",
    "plt.show()"
   ]
  },
  {
   "cell_type": "code",
   "execution_count": 41,
   "metadata": {},
   "outputs": [
    {
     "data": {
      "text/plain": [
       "0.16824974569533027"
      ]
     },
     "execution_count": 41,
     "metadata": {},
     "output_type": "execute_result"
    }
   ],
   "source": [
    "sum(rmses_2)/len(rmses_2)"
   ]
  },
  {
   "cell_type": "markdown",
   "metadata": {},
   "source": [
    "Justo lo que estabamos buscando! Esta parece ser una funcion que aproxima muy muy bien a la cantidad de delays por mes.\n",
    "\n",
    "Veamos como es la funcion :D (de nuevo 2003)"
   ]
  },
  {
   "cell_type": "code",
   "execution_count": 42,
   "metadata": {},
   "outputs": [
    {
     "data": {
      "image/png": "[encoded data removed]",
      "text/plain": [
       "<Figure size 432x288 with 1 Axes>"
      ]
     },
     "metadata": {
      "needs_background": "light"
     },
     "output_type": "display_data"
    }
   ],
   "source": [
    "y = np.asarray(data[9]).reshape(-1)\n",
    "cml.fit(x, y)\n",
    "\n",
    "f_x_axis = np.arange(1, 12.1, 0.1)\n",
    "f_y_axis = [cml.predict(x) for x in f_x_axis]\n",
    "x_ticks = np.arange(1, 13, 1)\n",
    "\n",
    "data_x_axis = np.arange(1, 13, 1)\n",
    "data_y_axis = y\n",
    "\n",
    "fig, ax = plt.subplots()\n",
    "ax.plot(f_x_axis, f_y_axis, label=\"predict\")\n",
    "ax.scatter(data_x_axis, data_y_axis, label=\"actual\", color=\"r\")\n",
    "ax.legend()\n",
    "\n",
    "plt.xticks(x_ticks, [\"e\",\"f\",\"m\",\"a\",\"m\",\"j\",\"j\",\"a\",\"s\",\"o\",\"n\",\"d\"])\n",
    "\n",
    "plt.show()"
   ]
  },
  {
   "cell_type": "markdown",
   "metadata": {},
   "source": [
    "Mucho mejor ...\n"
   ]
  },
  {
   "cell_type": "code",
   "execution_count": 43,
   "metadata": {},
   "outputs": [
    {
     "data": {
      "text/plain": [
       "array([16.97201155, -0.67889867,  0.06704525,  2.09122006, -1.26926175])"
      ]
     },
     "execution_count": 43,
     "metadata": {},
     "output_type": "execute_result"
    }
   ],
   "source": [
    "cml.coef()"
   ]
  },
  {
   "cell_type": "code",
   "execution_count": null,
   "metadata": {},
   "outputs": [],
   "source": []
  },
  {
   "cell_type": "code",
   "execution_count": null,
   "metadata": {},
   "outputs": [],
   "source": []
  }
 ],
 "metadata": {
  "kernelspec": {
   "display_name": "Python 3",
   "language": "python",
   "name": "python3"
  },
  "language_info": {
   "codemirror_mode": {
    "name": "ipython",
    "version": 3
   },
   "file_extension": ".py",
   "mimetype": "text/x-python",
   "name": "python",
   "nbconvert_exporter": "python",
   "pygments_lexer": "ipython3",
   "version": "3.6.5"
  }
 },
 "nbformat": 4,
 "nbformat_minor": 2
}
