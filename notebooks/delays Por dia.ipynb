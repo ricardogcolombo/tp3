{
 "cells": [
  {
   "cell_type": "code",
   "execution_count": 1,
   "metadata": {},
   "outputs": [
    {
     "name": "stdout",
     "output_type": "stream",
     "text": [
      "mkdir: no se puede crear el directorio «build»: El archivo ya existe\n",
      "-- The C compiler identification is GNU 8.3.0\n",
      "-- The CXX compiler identification is GNU 8.3.0\n",
      "-- Check for working C compiler: /usr/bin/cc\n",
      "-- Check for working C compiler: /usr/bin/cc -- works\n",
      "-- Detecting C compiler ABI info\n",
      "-- Detecting C compiler ABI info - done\n",
      "-- Detecting C compile features\n",
      "-- Detecting C compile features - done\n",
      "-- Check for working CXX compiler: /usr/bin/c++\n",
      "-- Check for working CXX compiler: /usr/bin/c++ -- works\n",
      "-- Detecting CXX compiler ABI info\n",
      "-- Detecting CXX compiler ABI info - done\n",
      "-- Detecting CXX compile features\n",
      "-- Detecting CXX compile features - done\n",
      "Release mode\n",
      "-- Found PythonInterp: /usr/bin/python3 (found version \"3.6.8\") \n",
      "-- Found PythonLibs: /usr/lib/x86_64-linux-gnu/libpython3.6m.so\n",
      "-- pybind11 v2.4.dev4\n",
      "-- Performing Test HAS_FLTO\n",
      "-- Performing Test HAS_FLTO - Success\n",
      "-- LTO enabled\n",
      "CMAKE_INSTALL_PREFIX=/home/guidotripodi/Documentos/Facu/MN/mntp3/tp3\n",
      "-- Configuring done\n",
      "-- Generating done\n",
      "-- Build files have been written to: /home/guidotripodi/Documentos/Facu/MN/mntp3/tp3/build\n",
      "\u001b[35m\u001b[1mScanning dependencies of target tp3_pybind\u001b[0m\n",
      "[ 11%] \u001b[32mBuilding CXX object CMakeFiles/tp3_pybind.dir/src/main_pybind.cpp.o\u001b[0m\n",
      "[ 22%] \u001b[32mBuilding CXX object CMakeFiles/tp3_pybind.dir/src/cml.cpp.o\u001b[0m\n",
      "[ 33%] \u001b[32m\u001b[1mLinking CXX executable tp3_pybind\u001b[0m\n",
      "[ 33%] Built target tp3_pybind\n",
      "\u001b[35m\u001b[1mScanning dependencies of target predict\u001b[0m\n",
      "[ 44%] \u001b[32mBuilding CXX object CMakeFiles/predict.dir/src/predict.cpp.o\u001b[0m\n",
      "[ 55%] \u001b[32mBuilding CXX object CMakeFiles/predict.dir/src/cml.cpp.o\u001b[0m\n",
      "[ 66%] \u001b[32m\u001b[1mLinking CXX shared module predict.cpython-36m-x86_64-linux-gnu.so\u001b[0m\n",
      "[ 66%] Built target predict\n",
      "\u001b[35m\u001b[1mScanning dependencies of target tp3\u001b[0m\n",
      "[ 77%] \u001b[32mBuilding CXX object CMakeFiles/tp3.dir/src/main.cpp.o\u001b[0m\n",
      "[ 88%] \u001b[32mBuilding CXX object CMakeFiles/tp3.dir/src/cml.cpp.o\u001b[0m\n",
      "[100%] \u001b[32m\u001b[1mLinking CXX executable tp3\u001b[0m\n",
      "[100%] Built target tp3\n",
      "\u001b[36mInstall the project...\u001b[0m\n",
      "-- Install configuration: \"Release\"\n",
      "-- Installing: /home/guidotripodi/Documentos/Facu/MN/mntp3/tp3/notebooks/predict.cpython-36m-x86_64-linux-gnu.so\n"
     ]
    }
   ],
   "source": [
    "!cd .. && git submodule init\n",
    "!cd .. && git submodule update\n",
    "!cd .. && mkdir build\n",
    "!cd ../build/ && rm -rf *\n",
    "!cd ../build && cmake \\\n",
    "  -DPYTHON_EXECUTABLE=\"$(which python3)\" \\\n",
    "  -DCMAKE_BUILD_TYPE=Release ..\n",
    "!cd ../build && make install"
   ]
  },
  {
   "cell_type": "code",
   "execution_count": 1,
   "metadata": {},
   "outputs": [],
   "source": [
    "import predict\n",
    "import numpy as np\n",
    "import pandas as pd\n",
    "import matplotlib.pyplot as plt\n",
    "import math"
   ]
  },
  {
   "cell_type": "code",
   "execution_count": 2,
   "metadata": {},
   "outputs": [],
   "source": [
    "def otp(dataframe, groups):\n",
    "    total = dataframe.groupby(groups).size()\n",
    "    delayed = dataframe[dataframe['ArrDelay']>15].groupby(groups).size()\n",
    "    return delayed/total\n",
    "\n",
    "def rentabilidad(dataframe, groups):\n",
    "    total = dataframe.groupby(groups).size()\n",
    "    return total\n",
    "\n",
    "def rentabilidadAnual(dataframe, groups, groups2):\n",
    "    total = dataframe.groupby(groups).size()\n",
    "    aerolineaAnual = dataframe.groupby(groups2).size()\n",
    "    return aerolineaAnual/total\n",
    "\n",
    "def grupo(dataframe, groups):\n",
    "    total = dataframe.groupby(groups).apply(lambda x: x.sum())\n",
    "    return total "
   ]
  },
  {
   "cell_type": "markdown",
   "metadata": {},
   "source": [
    "1 - Correr primero filterRentabilidad.sh \n",
    "2 - Guardar csv en carpeta DATA\n",
    "3 - Correr notebook"
   ]
  },
  {
   "cell_type": "markdown",
   "metadata": {},
   "source": [
    "# Experimento Confiabilidad"
   ]
  },
  {
   "cell_type": "code",
   "execution_count": 5,
   "metadata": {},
   "outputs": [],
   "source": [
    "cans = pd.Series([])\n",
    "otps = pd.Series([])\n",
    "files=[\n",
    "    #\"1994CantidadPorDia.csv\", \n",
    "    #\"1995CantidadPorDia.csv\",\n",
    "    #\"1996CantidadPorDia.csv\",\n",
    "    #\"1997CantidadPorDia.csv\",\n",
    "    #\"1998CantidadPorDia.csv\",\n",
    "    #\"1999CantidadPorDia.csv\",\n",
    "    #\"2000CantidadPorDia.csv\",\n",
    "    \"2001CantidadPorDia.csv\",\n",
    "    \"2002CantidadPorDia.csv\"\n",
    "    #\"2003CantidadPorDia.csv\",\n",
    "    #\"2004CantidadPorDia.csv\",\n",
    "    #\"2005CantidadPorDia.csv\",\n",
    "    #\"2006CantidadPorDia.csv\",\n",
    "    #\"2007CantidadPorDia.csv\",\n",
    "    #\"2008CantidadPorDia.csv\" \n",
    "]\n",
    "root=\"../data/\"\n",
    "\n",
    "for file in files:\n",
    "    frame = pd.read_csv(root+file)\n",
    "    dayOfWeekOtp = otp(frame,['Year','DayOfWeek'])\n",
    "    otps = pd.concat([otps, dayOfWeekOtp])\n",
    "\n"
   ]
  },
  {
   "cell_type": "code",
   "execution_count": 6,
   "metadata": {},
   "outputs": [],
   "source": [
    "otps.to_csv(\"../data/dayOfWeekOtp20012002.csv\", header=False)"
   ]
  },
  {
   "cell_type": "markdown",
   "metadata": {},
   "source": [
    "# Rentabilidad "
   ]
  },
  {
   "cell_type": "code",
   "execution_count": 23,
   "metadata": {},
   "outputs": [],
   "source": [
    "cans = pd.Series([])\n",
    "otps = pd.Series([])\n",
    "files=[\n",
    "    \"1995Rentabilidad.csv\",\n",
    "    \"1996Rentabilidad.csv\",\n",
    "    \"1997Rentabilidad.csv\",\n",
    "    \"1998Rentabilidad.csv\",\n",
    "    \"1999Rentabilidad.csv\",\n",
    "    \"2000Rentabilidad.csv\",\n",
    "    \"2001Rentabilidad.csv\"\n",
    "    \"2002Rentabilidad.csv\"\n",
    "    \"2003Rentabilidad.csv\",\n",
    "    \"2004Rentabilidad.csv\",\n",
    "    \"2005Rentabilidad.csv\",\n",
    "    \"2006Rentabilidad.csv\",\n",
    "    \"2007Rentabilidad.csv\",\n",
    "    \"2008Rentabilidad.csv\" \n",
    "]\n",
    "root=\"../data/\"\n",
    "\n",
    "for file in files:\n",
    "    frame = pd.read_csv(root+file)\n",
    "    carrierOtp = rentabilidad(frame,['Year','UniqueCarrier'])\n",
    "    otps = pd.concat([otps, carrierOtp])\n",
    "\n"
   ]
  },
  {
   "cell_type": "code",
   "execution_count": 24,
   "metadata": {},
   "outputs": [],
   "source": [
    "otps.to_csv(\"../data/rentabilidadCarrier.csv\", header=False)"
   ]
  },
  {
   "cell_type": "code",
   "execution_count": 18,
   "metadata": {},
   "outputs": [],
   "source": [
    "cans = pd.Series([])\n",
    "otps = pd.Series([])\n",
    "files=[\n",
    "     \"1995Rentabilidad.csv\",\n",
    "    \"1996Rentabilidad.csv\",\n",
    "    \"1997Rentabilidad.csv\",\n",
    "    \"1998Rentabilidad.csv\",\n",
    "    \"1999Rentabilidad.csv\",\n",
    "    \"2000Rentabilidad.csv\",\n",
    "    #\"2001Rentabilidad.csv\"\n",
    "    #\"2002Rentabilidad.csv\",\n",
    "    \"2003Rentabilidad.csv\",\n",
    "    \"2004Rentabilidad.csv\",\n",
    "    \"2005Rentabilidad.csv\",\n",
    "    \"2006Rentabilidad.csv\",\n",
    "    \"2007Rentabilidad.csv\",\n",
    "    \"2008Rentabilidad.csv\" \n",
    "]\n",
    "root=\"../data/\"\n",
    "\n",
    "for file in files:\n",
    "    frame = pd.read_csv(root+file)\n",
    "    carrierOtp = rentabilidadAnual(frame,['Year'],['Year','UniqueCarrier'])\n",
    "    otps = pd.concat([otps, carrierOtp])\n"
   ]
  },
  {
   "cell_type": "code",
   "execution_count": 19,
   "metadata": {},
   "outputs": [],
   "source": [
    "otps.to_csv(\"../data/rentabilidadTotalCarrier.csv\", header=False)"
   ]
  },
  {
   "cell_type": "code",
   "execution_count": null,
   "metadata": {},
   "outputs": [],
   "source": []
  }
 ],
 "metadata": {
  "kernelspec": {
   "display_name": "Python 3",
   "language": "python",
   "name": "python3"
  },
  "language_info": {
   "codemirror_mode": {
    "name": "ipython",
    "version": 3
   },
   "file_extension": ".py",
   "mimetype": "text/x-python",
   "name": "python",
   "nbconvert_exporter": "python",
   "pygments_lexer": "ipython3",
   "version": "3.6.8"
  }
 },
 "nbformat": 4,
 "nbformat_minor": 2
}
