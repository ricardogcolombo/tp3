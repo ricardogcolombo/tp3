{
 "cells": [
  {
   "cell_type": "code",
   "execution_count": 7,
   "metadata": {},
   "outputs": [
    {
     "name": "stdout",
     "output_type": "stream",
     "text": [
      "mkdir: build: File exists\n",
      "-- The C compiler identification is AppleClang 10.0.1.10010046\n",
      "-- The CXX compiler identification is AppleClang 10.0.1.10010046\n",
      "-- Check for working C compiler: /Library/Developer/CommandLineTools/usr/bin/cc\n",
      "-- Check for working C compiler: /Library/Developer/CommandLineTools/usr/bin/cc -- works\n",
      "-- Detecting C compiler ABI info\n",
      "-- Detecting C compiler ABI info - done\n",
      "-- Detecting C compile features\n",
      "-- Detecting C compile features - done\n",
      "-- Check for working CXX compiler: /Library/Developer/CommandLineTools/usr/bin/c++\n",
      "-- Check for working CXX compiler: /Library/Developer/CommandLineTools/usr/bin/c++ -- works\n",
      "-- Detecting CXX compiler ABI info\n",
      "-- Detecting CXX compiler ABI info - done\n",
      "-- Detecting CXX compile features\n",
      "-- Detecting CXX compile features - done\n",
      "Release mode\n",
      "-- Found PythonInterp: /usr/local/bin/python3 (found version \"3.7.4\") \n",
      "-- Found PythonLibs: /usr/local/opt/python/Frameworks/Python.framework/Versions/3.7/lib/libpython3.7m.dylib\n",
      "-- pybind11 v2.4.dev4\n",
      "-- Performing Test HAS_FLTO\n",
      "-- Performing Test HAS_FLTO - Success\n",
      "-- LTO enabled\n",
      "CMAKE_INSTALL_PREFIX=/Users/r/Sites/facu/tp3\n",
      "-- Configuring done\n",
      "-- Generating done\n",
      "-- Build files have been written to: /Users/r/Sites/facu/tp3/build\n",
      "\u001b[35m\u001b[1mScanning dependencies of target tp3\u001b[0m\n",
      "[ 11%] \u001b[32mBuilding CXX object CMakeFiles/tp3.dir/src/main.cpp.o\u001b[0m\n",
      "[ 22%] \u001b[32mBuilding CXX object CMakeFiles/tp3.dir/src/eigen.cpp.o\u001b[0m\n",
      "[ 33%] \u001b[32m\u001b[1mLinking CXX executable tp3\u001b[0m\n",
      "[ 33%] Built target tp3\n",
      "\u001b[35m\u001b[1mScanning dependencies of target tp3_pybind\u001b[0m\n",
      "[ 44%] \u001b[32mBuilding CXX object CMakeFiles/tp3_pybind.dir/src/main_pybind.cpp.o\u001b[0m\n",
      "[ 55%] \u001b[32mBuilding CXX object CMakeFiles/tp3_pybind.dir/src/eigen.cpp.o\u001b[0m\n",
      "[ 66%] \u001b[32m\u001b[1mLinking CXX executable tp3_pybind\u001b[0m\n",
      "[ 66%] Built target tp3_pybind\n",
      "\u001b[35m\u001b[1mScanning dependencies of target sentiment\u001b[0m\n",
      "[ 77%] \u001b[32mBuilding CXX object CMakeFiles/sentiment.dir/src/sentiment.cpp.o\u001b[0m\n",
      "In file included from /Users/r/Sites/facu/tp3/src/sentiment.cpp:1:\n",
      "In file included from /Users/r/Sites/facu/tp3/pybind11/include/pybind11/pybind11.h:47:\n",
      "\u001b[1m/Users/r/Sites/facu/tp3/pybind11/include/pybind11/detail/init.h:63:68: \u001b[0m\u001b[0;1;31merror: \u001b[0m\u001b[1m\n",
      "      no matching constructor for initialization of 'CML'\u001b[0m\n",
      "  ...&&...args) { return new Class{std::forward<Args>(args)...}; }\n",
      "\u001b[0;1;32m                             ^    ~~~~~~~~~~~~~~~~~~~~~~~~~~~~~\n",
      "\u001b[0m\u001b[1m/Users/r/Sites/facu/tp3/pybind11/include/pybind11/detail/init.h:174:31: \u001b[0m\u001b[0;1;30mnote: \u001b[0m\n",
      "      in instantiation of function template specialization\n",
      "      'pybind11::detail::initimpl::construct_or_initialize<CML, unsigned int,\n",
      "      0>' requested here\u001b[0m\n",
      "            v_h.value_ptr() = construct_or_initialize<Cpp<Class>>(std::f...\n",
      "\u001b[0;1;32m                              ^\n",
      "\u001b[0m\u001b[1m/Users/r/Sites/facu/tp3/pybind11/include/pybind11/pybind11.h:1148:14: \u001b[0m\u001b[0;1;30mnote: \u001b[0min\n",
      "      instantiation of function template specialization\n",
      "      'pybind11::detail::initimpl::constructor<unsigned\n",
      "      int>::execute<pybind11::class_<CML>, 0>' requested here\u001b[0m\n",
      "        init.execute(*this, extra...);\n",
      "\u001b[0;1;32m             ^\n",
      "\u001b[0m\u001b[1m/Users/r/Sites/facu/tp3/src/sentiment.cpp:11:10: \u001b[0m\u001b[0;1;30mnote: \u001b[0min instantiation of\n",
      "      function template specialization\n",
      "      'pybind11::class_<CML>::def<unsigned int>' requested here\u001b[0m\n",
      "        .def(py::init<unsigned int>())\n",
      "\u001b[0;1;32m         ^\n",
      "\u001b[0m\u001b[1m/Users/r/Sites/facu/tp3/src/cml.h:6:7: \u001b[0m\u001b[0;1;30mnote: \u001b[0mcandidate constructor (the implicit\n",
      "      copy constructor) not viable: no known conversion from 'unsigned int' to\n",
      "      'const CML' for 1st argument\u001b[0m\n",
      "class CML {\n",
      "\u001b[0;1;32m      ^\n",
      "\u001b[0m\u001b[1m/Users/r/Sites/facu/tp3/src/cml.h:6:7: \u001b[0m\u001b[0;1;30mnote: \u001b[0mcandidate constructor (the implicit\n",
      "      move constructor) not viable: no known conversion from 'unsigned int' to\n",
      "      'CML' for 1st argument\u001b[0m\n",
      "\u001b[1m/Users/r/Sites/facu/tp3/src/cml.h:8:5: \u001b[0m\u001b[0;1;30mnote: \u001b[0mcandidate constructor not viable:\n",
      "      requires 0 arguments, but 1 was provided\u001b[0m\n",
      "    CML();\n",
      "\u001b[0;1;32m    ^\n",
      "\u001b[0m1 error generated.\n",
      "make[2]: *** [CMakeFiles/sentiment.dir/src/sentiment.cpp.o] Error 1\n",
      "make[1]: *** [CMakeFiles/sentiment.dir/all] Error 2\n",
      "make: *** [all] Error 2\n"
     ]
    }
   ],
   "source": [
    "!cd .. && git submodule init\n",
    "!cd .. && git submodule update\n",
    "!cd .. && mkdir build\n",
    "!cd ../build/ && rm -rf *\n",
    "!cd ../build && cmake \\\n",
    "  -DPYTHON_EXECUTABLE=\"$(which python3)\" \\\n",
    "  -DCMAKE_BUILD_TYPE=Release ..\n",
    "!cd ../build && make install"
   ]
  },
  {
   "cell_type": "code",
   "execution_count": 2,
   "metadata": {},
   "outputs": [
    {
     "name": "stdout",
     "output_type": "stream",
     "text": [
      "tar: *.tgz: No se puede efectuar open: No existe el archivo o el directorio\n",
      "tar: Error is not recoverable: exiting now\n",
      "Cantidad de documentos: 12500\n"
     ]
    }
   ],
   "source": [
    "%load_ext autoreload\n",
    "%autoreload 2\n",
    "import pandas as pd\n",
    "\n",
    "!cd ../data && tar -xvf *.tgz\n",
    "\n",
    "df = pd.read_csv(\"../data/imdb_small.csv\", index_col=0)\n",
    "\n",
    "print(\"Cantidad de documentos: {}\".format(df.shape[0]))"
   ]
  },
  {
   "cell_type": "code",
   "execution_count": 3,
   "metadata": {},
   "outputs": [
    {
     "name": "stdout",
     "output_type": "stream",
     "text": [
      "Cantidad de instancias de entrenamiento = 6225\n",
      "Cantidad de instancias de test = 6275\n"
     ]
    }
   ],
   "source": [
    "text_train = df[df.type == 'train'][\"review\"]\n",
    "label_train = df[df.type == 'train'][\"label\"]\n",
    "\n",
    "text_test = df[df.type == 'test'][\"review\"]\n",
    "label_test = df[df.type == 'test'][\"label\"]\n",
    "\n",
    "print(\"Cantidad de instancias de entrenamiento = {}\".format(len(text_train)))\n",
    "print(\"Cantidad de instancias de test = {}\".format(len(text_test)))\n"
   ]
  }
 ],
 "metadata": {
  "kernelspec": {
   "display_name": "Python 3",
   "language": "python",
   "name": "python3"
  },
  "language_info": {
   "codemirror_mode": {
    "name": "ipython",
    "version": 3
   },
   "file_extension": ".py",
   "mimetype": "text/x-python",
   "name": "python",
   "nbconvert_exporter": "python",
   "pygments_lexer": "ipython3",
   "version": "3.7.4"
  }
 },
 "nbformat": 4,
 "nbformat_minor": 2
}
